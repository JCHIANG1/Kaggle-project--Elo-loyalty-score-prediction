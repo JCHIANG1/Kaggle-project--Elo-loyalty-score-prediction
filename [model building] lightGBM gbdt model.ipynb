{
 "cells": [
  {
   "cell_type": "code",
   "execution_count": 47,
   "metadata": {},
   "outputs": [],
   "source": [
    "import numpy as np\n",
    "from numpy.random import randint\n",
    "import pandas as pd\n",
    "import matplotlib.pyplot as plt"
   ]
  },
  {
   "cell_type": "markdown",
   "metadata": {},
   "source": [
    "#### The model training process\n",
    "1.\tData Splitting:\n",
    "After feature aggregation, we obtain the final data frame for model building with the cardID index provided from the Kaggle training set. We first split the data set into 80% and 20% as a new data set and validation set. Then for the new data set, we further split it into 80% and 20% as the training set and the testing set.\n",
    "2.\tModel tuning:\n",
    "For the optimal model, apply 5 folds cross-validation on the training set to tune the parameters to find the optimal model.\n",
    "3.\tOptimal model:\n",
    "Report its average re-substitution estimate error on the training set\n",
    "4.\tTesting:\n",
    "Test the optimal model on the testing set with 5 folds cross-validation to obtain generalization estimate error\n",
    "5.\tFinal model selection:\n",
    "Select the final model based on the average performance on the testing set. \n",
    "\n"
   ]
  },
  {
   "cell_type": "markdown",
   "metadata": {},
   "source": [
    "#### import data"
   ]
  },
  {
   "cell_type": "code",
   "execution_count": 48,
   "metadata": {},
   "outputs": [],
   "source": [
    "x=pd.read_csv('[No transform]full_tb_x.csv',index_col='Unnamed: 0')\n",
    "y=pd.read_csv('full_tb_y.csv',index_col='Unnamed: 0')"
   ]
  },
  {
   "cell_type": "code",
   "execution_count": 49,
   "metadata": {},
   "outputs": [],
   "source": [
    "#competition submission test file\n",
    "val=pd.read_csv('[testing]full_tb_x.csv',index_col='Unnamed: 0')"
   ]
  },
  {
   "cell_type": "code",
   "execution_count": 50,
   "metadata": {},
   "outputs": [],
   "source": [
    "x[['feature_1', 'feature_2', 'feature_3','first_active_month_year_lag_to_reference_date']]=x[['feature_1', 'feature_2', 'feature_3','first_active_month_year_lag_to_reference_date']].astype({'feature_1':'category', 'feature_2':'category', 'feature_3':'category','first_active_month_year_lag_to_reference_date':'category'})\n",
    "val[['feature_1', 'feature_2', 'feature_3','first_active_month_year_lag_to_reference_date']]=val[['feature_1', 'feature_2', 'feature_3','first_active_month_year_lag_to_reference_date']].astype({'feature_1':'category', 'feature_2':'category', 'feature_3':'category','first_active_month_year_lag_to_reference_date':'category'})"
   ]
  },
  {
   "cell_type": "code",
   "execution_count": 51,
   "metadata": {},
   "outputs": [],
   "source": [
    "#split the the data\n",
    "from sklearn.model_selection import train_test_split\n",
    "\n",
    "x.set_index('card_id',inplace=True)\n",
    "y.set_index('card_id',inplace=True)\n",
    "val.set_index('card_id',inplace=True)"
   ]
  },
  {
   "cell_type": "code",
   "execution_count": null,
   "metadata": {},
   "outputs": [],
   "source": [
    "X_train, X_test, Y_train, Y_test=train_test_split(x,y,test_size=0.2, random_state=100)"
   ]
  },
  {
   "cell_type": "markdown",
   "metadata": {},
   "source": [
    "#### tree based baseline regression model"
   ]
  },
  {
   "cell_type": "code",
   "execution_count": 9,
   "metadata": {},
   "outputs": [],
   "source": [
    "import lightgbm as lgb\n",
    "\n",
    "from sklearn.metrics import mean_squared_error\n",
    "def rmse(actual,predict): \n",
    "    return (np.sqrt(mean_squared_error(actual,predict)))"
   ]
  },
  {
   "cell_type": "code",
   "execution_count": null,
   "metadata": {},
   "outputs": [],
   "source": [
    "score1={}\n",
    "num_round=5000\n",
    "lgb_train = lgb.Dataset(X_train, Y_train)\n",
    "lgb_test = lgb.Dataset(X_test, Y_test, reference=lgb_train)\n",
    "\n",
    "for i in range(2,50,1):\n",
    "    core_params = {\n",
    "        'objective': 'regression',\n",
    "        \"boosting_type\":\"gbdt\",\n",
    "\n",
    "        \"num_leaves\":i,\n",
    "        \"min_data_in_leaf\":30*i, #int(len(X_train)*(2*i/1600))\n",
    "        \"feature_fraction\":0.8,\n",
    "        \"metric\":\"rmse\"}\n",
    "    bst_model = lgb.train(core_params,lgb_train,num_round,valid_sets=(lgb_test),early_stopping_rounds=50)\n",
    "    y_hat=bst_model.predict(X_test,num_iteration=bst_model.best_iteration)\n",
    "    score1[i]=rmse(Y_test,y_hat)"
   ]
  },
  {
   "cell_type": "code",
   "execution_count": 25,
   "metadata": {
    "scrolled": true
   },
   "outputs": [
    {
     "data": {
      "image/png": "[encoded data removed]",
      "text/plain": [
       "<matplotlib.figure.Figure at 0x2ed923d7588>"
      ]
     },
     "metadata": {},
     "output_type": "display_data"
    }
   ],
   "source": [
    "import matplotlib.pyplot as plt\n",
    "plt.plot([i for i in score1.keys()],[i for i in score1.values()])\n",
    "plt.xlabel('# leaves')\n",
    "plt.ylabel('RMSE')\n",
    "plt.title('Parameter tunning on training set')\n",
    "plt.show()"
   ]
  },
  {
   "cell_type": "markdown",
   "metadata": {},
   "source": [
    "#### K fold validation"
   ]
  },
  {
   "cell_type": "code",
   "execution_count": 289,
   "metadata": {},
   "outputs": [],
   "source": [
    "# K fold function\n",
    "\n",
    "from sklearn.model_selection import KFold\n",
    "\n",
    "def get_oof(x, y, fold):\n",
    "    NFOLDS=fold\n",
    "\n",
    "    kf = KFold(n_splits=NFOLDS, shuffle=True)\n",
    "      \n",
    "    lgbm_params = core_params\n",
    "    \n",
    "    fold_error={}\n",
    "    xval_err = 0\n",
    "    for i, (train_index, test_index) in enumerate(kf.split(x)):\n",
    "        #print('\\nFold {}'.format(i))\n",
    "        x_tr = x.loc[train_index]\n",
    "        x_te = x.loc[test_index]\n",
    "        \n",
    "        y_tr = y.loc[train_index]\n",
    "        y_te = y.loc[test_index]\n",
    "        \n",
    "        lgtrain = lgb.Dataset(x_tr, y_tr)\n",
    "                    #feature_name=x_train.columns.tolist())\n",
    "        lgvalid = lgb.Dataset(x_te, y_te, reference=lgtrain)\n",
    "                    #feature_name=x_train.columns.tolist())\n",
    "                    #categorical_feature = categorical)\n",
    "        lgb_clf = lgb.train(\n",
    "            lgbm_params,\n",
    "            lgtrain,\n",
    "            num_boost_round=5000,\n",
    "            valid_sets=[lgvalid],\n",
    "            valid_names=['valid'],\n",
    "            early_stopping_rounds=50,\n",
    "            verbose_eval=0\n",
    "        )\n",
    "        y_hat = lgb_clf.predict(x_te,num_iteration=lgb_clf.best_iteration)\n",
    "        xval_err += rmse(y.loc[test_index],y_hat)\n",
    "        fold_error[i]=rmse(y.loc[test_index],y_hat)\n",
    "        \n",
    "    cv_fold_mean_score = xval_err / NFOLDS\n",
    "    return cv_fold_mean_score,fold_error"
   ]
  },
  {
   "cell_type": "code",
   "execution_count": 70,
   "metadata": {},
   "outputs": [],
   "source": [
    "data_x=X_new_train.reset_index()\n",
    "data_x.drop(['card_id'],axis=1,inplace=True)\n",
    "\n",
    "\n",
    "data_y=Y_new_train.reset_index()\n",
    "data_y.drop(['card_id'],axis=1,inplace=True)\n"
   ]
  },
  {
   "cell_type": "code",
   "execution_count": 28,
   "metadata": {},
   "outputs": [],
   "source": [
    "i=11\n",
    "core_params = {\n",
    "    'objective': 'regression',\n",
    "    \"boosting_type\":\"gbdt\",\n",
    "\n",
    "    \"num_leaves\":i,\n",
    "    \"min_data_in_leaf\":30*i, #int(len(X_train)*(2*i/1600))\n",
    "    \"feature_fraction\":0.8,\n",
    "    \"metric\":\"rmse\"}"
   ]
  },
  {
   "cell_type": "code",
   "execution_count": 291,
   "metadata": {
    "scrolled": true
   },
   "outputs": [
    {
     "name": "stderr",
     "output_type": "stream",
     "text": [
      "C:\\Anacon\\lib\\site-packages\\lightgbm\\basic.py:762: UserWarning: categorical_feature in param dict is overridden.\n",
      "  warnings.warn('categorical_feature in param dict is overridden.')\n",
      "C:\\Anacon\\lib\\site-packages\\lightgbm\\basic.py:762: UserWarning: categorical_feature in param dict is overridden.\n",
      "  warnings.warn('categorical_feature in param dict is overridden.')\n",
      "C:\\Anacon\\lib\\site-packages\\lightgbm\\basic.py:762: UserWarning: categorical_feature in param dict is overridden.\n",
      "  warnings.warn('categorical_feature in param dict is overridden.')\n",
      "C:\\Anacon\\lib\\site-packages\\lightgbm\\basic.py:762: UserWarning: categorical_feature in param dict is overridden.\n",
      "  warnings.warn('categorical_feature in param dict is overridden.')\n",
      "C:\\Anacon\\lib\\site-packages\\lightgbm\\basic.py:762: UserWarning: categorical_feature in param dict is overridden.\n",
      "  warnings.warn('categorical_feature in param dict is overridden.')\n"
     ]
    },
    {
     "data": {
      "text/plain": [
       "(3.7938732424297554,\n",
       " {0: 3.606961125268551,\n",
       "  1: 3.937605607995031,\n",
       "  2: 4.027618548119432,\n",
       "  3: 3.7594472859467873,\n",
       "  4: 3.6377336448189763})"
      ]
     },
     "execution_count": 291,
     "metadata": {},
     "output_type": "execute_result"
    }
   ],
   "source": [
    "get_oof(data_x, data_y, 5)"
   ]
  },
  {
   "cell_type": "markdown",
   "metadata": {},
   "source": [
    "#### validation set"
   ]
  },
  {
   "cell_type": "code",
   "execution_count": 33,
   "metadata": {},
   "outputs": [],
   "source": [
    "#bst_model = lgb.train(core_params,lgb_train,num_round,valid_sets=(lgb_test),early_stopping_rounds=50)\n",
    "y_hat=bst_model.predict(val,num_iteration=bst_model.best_iteration)"
   ]
  },
  {
   "cell_type": "code",
   "execution_count": 37,
   "metadata": {},
   "outputs": [],
   "source": [
    "submission=pd.DataFrame(y_hat,val.index,columns=['target'])\n",
    "submission.to_csv('submission.csv')"
   ]
  },
  {
   "cell_type": "code",
   "execution_count": 38,
   "metadata": {},
   "outputs": [
    {
     "data": {
      "text/plain": [
       "123623"
      ]
     },
     "execution_count": 38,
     "metadata": {},
     "output_type": "execute_result"
    }
   ],
   "source": [
    "len(submission)"
   ]
  },
  {
   "cell_type": "code",
   "execution_count": 282,
   "metadata": {},
   "outputs": [
    {
     "data": {
      "text/plain": [
       "3.67551667255687"
      ]
     },
     "execution_count": 282,
     "metadata": {},
     "output_type": "execute_result"
    }
   ],
   "source": [
    "rmse(Y_val,y_hat)"
   ]
  },
  {
   "cell_type": "code",
   "execution_count": null,
   "metadata": {},
   "outputs": [],
   "source": [
    "data_X_val=X_val.reset_index()\n",
    "data_X_val.drop(['card_id'],axis=1,inplace=True)\n",
    "\n",
    "\n",
    "data_Y_val=Y_val.reset_index()\n",
    "data_Y_val.drop(['card_id'],axis=1,inplace=True)"
   ]
  },
  {
   "cell_type": "code",
   "execution_count": 283,
   "metadata": {
    "scrolled": true
   },
   "outputs": [
    {
     "name": "stderr",
     "output_type": "stream",
     "text": [
      "C:\\Anacon\\lib\\site-packages\\lightgbm\\basic.py:762: UserWarning: categorical_feature in param dict is overridden.\n",
      "  warnings.warn('categorical_feature in param dict is overridden.')\n",
      "C:\\Anacon\\lib\\site-packages\\lightgbm\\basic.py:762: UserWarning: categorical_feature in param dict is overridden.\n",
      "  warnings.warn('categorical_feature in param dict is overridden.')\n",
      "C:\\Anacon\\lib\\site-packages\\lightgbm\\basic.py:762: UserWarning: categorical_feature in param dict is overridden.\n",
      "  warnings.warn('categorical_feature in param dict is overridden.')\n",
      "C:\\Anacon\\lib\\site-packages\\lightgbm\\basic.py:762: UserWarning: categorical_feature in param dict is overridden.\n",
      "  warnings.warn('categorical_feature in param dict is overridden.')\n",
      "C:\\Anacon\\lib\\site-packages\\lightgbm\\basic.py:762: UserWarning: categorical_feature in param dict is overridden.\n",
      "  warnings.warn('categorical_feature in param dict is overridden.')\n"
     ]
    },
    {
     "data": {
      "text/plain": [
       "(3.6899034185760953,\n",
       " {0: 3.677794210230061,\n",
       "  1: 3.6005671374314887,\n",
       "  2: 3.849875777894624,\n",
       "  3: 3.5321876837390445,\n",
       "  4: 3.78909228358526})"
      ]
     },
     "execution_count": 283,
     "metadata": {},
     "output_type": "execute_result"
    }
   ],
   "source": [
    "get_oof(data_X_val, data_Y_val, 5)"
   ]
  },
  {
   "cell_type": "markdown",
   "metadata": {},
   "source": [
    "#### confidence interval\n",
    "resampling for 100 times for training and testing set"
   ]
  },
  {
   "cell_type": "code",
   "execution_count": 52,
   "metadata": {},
   "outputs": [],
   "source": [
    "i=11\n",
    "core_params = {\n",
    "    'objective': 'regression',\n",
    "    \"boosting_type\":\"gbdt\",\n",
    "\n",
    "    \"num_leaves\":i,\n",
    "    \"min_data_in_leaf\":30*i, #int(len(X_train)*(2*i/1600))\n",
    "    \"feature_fraction\":0.8,\n",
    "    \"metric\":\"rmse\"}"
   ]
  },
  {
   "cell_type": "code",
   "execution_count": null,
   "metadata": {},
   "outputs": [],
   "source": [
    "from sklearn.utils import resample\n",
    "num_round=5000\n",
    "\n",
    "score={}\n",
    "for i in range(100):\n",
    "    X_train, X_test, Y_train, Y_test=train_test_split(x,y,test_size=0.2)\n",
    "    lgb_train = lgb.Dataset(X_train, Y_train)\n",
    "    lgb_test = lgb.Dataset(X_test, Y_test, reference=lgb_train)\n",
    "    bst_model = lgb.train(core_params,lgb_train,num_round,valid_sets=(lgb_test),early_stopping_rounds=50)\n",
    "    y_hat=bst_model.predict(X_test,num_iteration=bst_model.best_iteration)\n",
    "    score[i]=(rmse(Y_test,y_hat),[y_hat])"
   ]
  },
  {
   "cell_type": "code",
   "execution_count": 65,
   "metadata": {},
   "outputs": [],
   "source": [
    "mean= np.mean([i[0] for i in score.values()])"
   ]
  },
  {
   "cell_type": "code",
   "execution_count": 71,
   "metadata": {},
   "outputs": [
    {
     "data": {
      "text/plain": [
       "0.014719971186716523"
      ]
     },
     "execution_count": 71,
     "metadata": {},
     "output_type": "execute_result"
    }
   ],
   "source": [
    "std=np.sqrt(np.var([i[0] for i in score.values()]))\n",
    "standard_error_estimate =std/np.sqrt(100)\n",
    "standard_error_estimate*1.984"
   ]
  },
  {
   "cell_type": "code",
   "execution_count": 72,
   "metadata": {},
   "outputs": [
    {
     "data": {
      "text/plain": [
       "3.781229064228811"
      ]
     },
     "execution_count": 72,
     "metadata": {},
     "output_type": "execute_result"
    }
   ],
   "source": [
    "mean+standard_error_estimate*1.984"
   ]
  },
  {
   "cell_type": "code",
   "execution_count": 73,
   "metadata": {},
   "outputs": [
    {
     "data": {
      "text/plain": [
       "3.7517891218553783"
      ]
     },
     "execution_count": 73,
     "metadata": {},
     "output_type": "execute_result"
    }
   ],
   "source": [
    "mean-standard_error_estimate*1.984"
   ]
  }
 ],
 "metadata": {
  "kernelspec": {
   "display_name": "Python [conda env:Anacon]",
   "language": "python",
   "name": "conda-env-Anacon-py"
  },
  "language_info": {
   "codemirror_mode": {
    "name": "ipython",
    "version": 3
   },
   "file_extension": ".py",
   "mimetype": "text/x-python",
   "name": "python",
   "nbconvert_exporter": "python",
   "pygments_lexer": "ipython3",
   "version": "3.6.2"
  }
 },
 "nbformat": 4,
 "nbformat_minor": 2
}
