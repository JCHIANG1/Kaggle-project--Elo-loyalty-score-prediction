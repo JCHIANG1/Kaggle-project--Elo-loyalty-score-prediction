{
 "cells": [
  {
   "cell_type": "markdown",
   "metadata": {},
   "source": [
    "### create new features for first active month variable"
   ]
  },
  {
   "cell_type": "markdown",
   "metadata": {},
   "source": [
    "#### The training set has the first active month information, we can create new variable from it, for each card_id try to extract two transaction date to determine the lag for each id \n"
   ]
  },
  {
   "cell_type": "code",
   "execution_count": 30,
   "metadata": {},
   "outputs": [],
   "source": [
    "import pandas as pd\n",
    "import numpy as np\n",
    "\n",
    "#hist_tran=pd.read_csv('training_split_by_us_transaction.csv')\n",
    "#trans_date=hist_tran[[\"card_id\",'month_lag',\"purchase_date\"]]\n",
    "#trans_date.to_csv('Elo Project [feature creation2]cardID+month_lag+purchase_date .csv')"
   ]
  },
  {
   "cell_type": "code",
   "execution_count": 31,
   "metadata": {},
   "outputs": [
    {
     "name": "stderr",
     "output_type": "stream",
     "text": [
      "C:\\Anacon\\lib\\site-packages\\numpy\\lib\\arraysetops.py:522: FutureWarning: elementwise comparison failed; returning scalar instead, but in the future will perform elementwise comparison\n",
      "  mask |= (ar1 == a)\n"
     ]
    }
   ],
   "source": [
    "train=pd.read_csv('train_card_info.csv')\n",
    "trans_date=pd.read_csv('Elo Project [feature creation2]cardID+month_lag+purchase_date .csv',index_col='Unnamed: 0')"
   ]
  },
  {
   "cell_type": "code",
   "execution_count": 32,
   "metadata": {
    "scrolled": true
   },
   "outputs": [
    {
     "data": {
      "text/html": [
       "<div>\n",
       "<style>\n",
       "    .dataframe thead tr:only-child th {\n",
       "        text-align: right;\n",
       "    }\n",
       "\n",
       "    .dataframe thead th {\n",
       "        text-align: left;\n",
       "    }\n",
       "\n",
       "    .dataframe tbody tr th {\n",
       "        vertical-align: top;\n",
       "    }\n",
       "</style>\n",
       "<table border=\"1\" class=\"dataframe\">\n",
       "  <thead>\n",
       "    <tr style=\"text-align: right;\">\n",
       "      <th></th>\n",
       "      <th>month_lag</th>\n",
       "      <th>purchase_date</th>\n",
       "    </tr>\n",
       "    <tr>\n",
       "      <th>card_id</th>\n",
       "      <th></th>\n",
       "      <th></th>\n",
       "    </tr>\n",
       "  </thead>\n",
       "  <tbody>\n",
       "    <tr>\n",
       "      <th>C_ID_00007093c1</th>\n",
       "      <td>-10</td>\n",
       "      <td>2017-04-17 19:19:54</td>\n",
       "    </tr>\n",
       "    <tr>\n",
       "      <th>C_ID_00007093c1</th>\n",
       "      <td>-5</td>\n",
       "      <td>2017-09-25 20:07:44</td>\n",
       "    </tr>\n",
       "    <tr>\n",
       "      <th>C_ID_00007093c1</th>\n",
       "      <td>-4</td>\n",
       "      <td>2017-10-28 20:11:04</td>\n",
       "    </tr>\n",
       "    <tr>\n",
       "      <th>C_ID_00007093c1</th>\n",
       "      <td>-1</td>\n",
       "      <td>2018-01-08 18:13:40</td>\n",
       "    </tr>\n",
       "    <tr>\n",
       "      <th>C_ID_00007093c1</th>\n",
       "      <td>-6</td>\n",
       "      <td>2017-08-28 11:46:28</td>\n",
       "    </tr>\n",
       "  </tbody>\n",
       "</table>\n",
       "</div>"
      ],
      "text/plain": [
       "                 month_lag        purchase_date\n",
       "card_id                                        \n",
       "C_ID_00007093c1        -10  2017-04-17 19:19:54\n",
       "C_ID_00007093c1         -5  2017-09-25 20:07:44\n",
       "C_ID_00007093c1         -4  2017-10-28 20:11:04\n",
       "C_ID_00007093c1         -1  2018-01-08 18:13:40\n",
       "C_ID_00007093c1         -6  2017-08-28 11:46:28"
      ]
     },
     "execution_count": 32,
     "metadata": {},
     "output_type": "execute_result"
    }
   ],
   "source": [
    "trans_date.head()\n",
    "trans_date.sort_values(by=['card_id'],inplace=True)\n",
    "unique_id=trans_date.card_id.unique().tolist()\n",
    "trans_date.set_index('card_id',inplace=True)\n",
    "trans_date.head()"
   ]
  },
  {
   "cell_type": "code",
   "execution_count": 33,
   "metadata": {
    "scrolled": true
   },
   "outputs": [
    {
     "data": {
      "text/plain": [
       "161533"
      ]
     },
     "execution_count": 33,
     "metadata": {},
     "output_type": "execute_result"
    }
   ],
   "source": [
    "#draw 5 records from each ID\n",
    "draw=[]\n",
    "for i in unique_id:\n",
    "    draw.append(trans_date.loc[i][:3])\n",
    "\n",
    "len(draw) #161533"
   ]
  },
  {
   "cell_type": "code",
   "execution_count": 34,
   "metadata": {},
   "outputs": [],
   "source": [
    "from datetime import datetime\n",
    "from dateutil.relativedelta import relativedelta\n",
    "\n",
    "\n",
    "reference_date1={}\n",
    "\n",
    "for c in range(len(draw)):\n",
    "    newtrans_date1=[]\n",
    "    t_lst=draw[c].purchase_date.tolist()\n",
    "    lag=draw[c].month_lag.tolist()\n",
    "\n",
    "    for i in range(len(t_lst)):\n",
    "        newtrans_date1.append(t_lst[i].split(\" \")[0].split(\"-\")+[lag[i]])\n",
    "        \n",
    "    reference_date=[]\n",
    "    \n",
    "    for i in range(len(newtrans_date1)):\n",
    "        y,m,d,l=[int(t) for t in newtrans_date1[i]]\n",
    "        t=datetime(y, m, d) - relativedelta(months=l)\n",
    "        reference_date.append(t.strftime('%Y-%m'))\n",
    "    \n",
    "    reference_date1[draw[c].index[0]]=reference_date"
   ]
  },
  {
   "cell_type": "code",
   "execution_count": 35,
   "metadata": {},
   "outputs": [],
   "source": [
    "#all the reference date for random draw 3 records belong to the same id are the same \n",
    "#save only one date \n",
    "reference_date2={}\n",
    "for i in unique_id:\n",
    "    if len(np.unique(reference_date1[i]))!= 1:\n",
    "        print(i)\n",
    "    else: \n",
    "        reference_date2[i]=reference_date1[i][0]\n",
    "        "
   ]
  },
  {
   "cell_type": "code",
   "execution_count": 36,
   "metadata": {},
   "outputs": [
    {
     "data": {
      "text/plain": [
       "True"
      ]
     },
     "execution_count": 36,
     "metadata": {},
     "output_type": "execute_result"
    }
   ],
   "source": [
    "#double check if all the index is unique\n",
    "len(train.card_id) ==len(train.card_id.unique())"
   ]
  },
  {
   "cell_type": "code",
   "execution_count": 37,
   "metadata": {},
   "outputs": [],
   "source": [
    "train.set_index('card_id',inplace=True)"
   ]
  },
  {
   "cell_type": "code",
   "execution_count": 38,
   "metadata": {},
   "outputs": [],
   "source": [
    "active_m_lag=[]\n",
    "for i in train.index.tolist():\n",
    "    f_a_m = datetime.strptime(train.first_active_month.loc[i],'%Y-%m')\n",
    "    r_m = datetime.strptime(reference_date2[i],'%Y-%m')\n",
    "    if relativedelta(f_a_m,r_m).years==0:\n",
    "        active_m_lag.append(relativedelta(f_a_m,r_m).months)\n",
    "    else:\n",
    "        active_m_lag.append(relativedelta(f_a_m,r_m).years*12+relativedelta(f_a_m,r_m).months)"
   ]
  },
  {
   "cell_type": "code",
   "execution_count": 39,
   "metadata": {},
   "outputs": [
    {
     "data": {
      "text/plain": [
       "array([-75, -74, -73, -72, -70, -69, -68, -67, -66, -65, -64, -63, -62,\n",
       "       -61, -60, -59, -58, -57, -56, -55, -54, -53, -52, -51, -50, -49,\n",
       "       -48, -47, -46, -45, -44, -43, -42, -41, -40, -39, -38, -37, -36,\n",
       "       -35, -34, -33, -32, -31, -30, -29, -28, -27, -26, -25, -24, -23,\n",
       "       -22, -21, -20, -19, -18, -17, -16, -15, -14, -13, -12, -11, -10,\n",
       "        -9,  -8,  -7,  -6,  -5,  -4,  -3,  -2,  -1,   0,   1])"
      ]
     },
     "execution_count": 39,
     "metadata": {},
     "output_type": "execute_result"
    }
   ],
   "source": [
    "#it seems to be more than 6 years lag between the first active month and the reference date\n",
    "np.unique(active_m_lag)"
   ]
  },
  {
   "cell_type": "code",
   "execution_count": 40,
   "metadata": {
    "scrolled": false
   },
   "outputs": [
    {
     "data": {
      "text/plain": [
       "-3    13329\n",
       "-4    13218\n",
       "-5    12573\n",
       "-6    11613\n",
       "-2    11358\n",
       "dtype: int64"
      ]
     },
     "execution_count": 40,
     "metadata": {},
     "output_type": "execute_result"
    }
   ],
   "source": [
    "pd.Series(active_m_lag).value_counts().head()"
   ]
  },
  {
   "cell_type": "code",
   "execution_count": 41,
   "metadata": {},
   "outputs": [
    {
     "data": {
      "text/plain": [
       "'2018-02'"
      ]
     },
     "execution_count": 41,
     "metadata": {},
     "output_type": "execute_result"
    }
   ],
   "source": [
    "#examin the code\n",
    "active_m_lag.index(-75)\n",
    "train.loc[train.index[21458]]\n",
    "reference_date2[train.index[21458]]"
   ]
  },
  {
   "cell_type": "code",
   "execution_count": 42,
   "metadata": {},
   "outputs": [],
   "source": [
    "#decide to apply year lag instead of month lag\n",
    "\n",
    "import math\n",
    "\n",
    "active_y_lag=[]\n",
    "for i in train.index.tolist():\n",
    "    f_a_m = datetime.strptime(train.first_active_month.loc[i],'%Y-%m')\n",
    "    r_m = datetime.strptime(reference_date2[i],'%Y-%m')\n",
    "    if relativedelta(f_a_m,r_m).years==0:\n",
    "        active_y_lag.append(relativedelta(f_a_m,r_m).years)\n",
    "        \n",
    "    # I decide to bin the year lag>5 to 5 so year lag 5 means =>5\n",
    "    else:\n",
    "        year_lag=math.floor((relativedelta(f_a_m,r_m).years*12+relativedelta(f_a_m,r_m).months)/12)   \n",
    "        if year_lag <= -5:\n",
    "            active_y_lag.append(-5)\n",
    "        else:\n",
    "            active_y_lag.append(year_lag)"
   ]
  },
  {
   "cell_type": "code",
   "execution_count": 43,
   "metadata": {},
   "outputs": [
    {
     "data": {
      "text/plain": [
       " 0    101337\n",
       "-2     39078\n",
       "-3     10712\n",
       "-1      5831\n",
       "-4      3514\n",
       "-5      1061\n",
       "dtype: int64"
      ]
     },
     "execution_count": 43,
     "metadata": {},
     "output_type": "execute_result"
    }
   ],
   "source": [
    "# for future reference\n",
    "pd.Series(active_y_lag).value_counts()"
   ]
  },
  {
   "cell_type": "code",
   "execution_count": 46,
   "metadata": {},
   "outputs": [
    {
     "data": {
      "text/plain": [
       " 0    101337\n",
       "-2     39078\n",
       "-3     10712\n",
       "-1      5831\n",
       "-4      3514\n",
       "-5      1061\n",
       "dtype: int64"
      ]
     },
     "execution_count": 46,
     "metadata": {},
     "output_type": "execute_result"
    }
   ],
   "source": [
    "#bin the year lag>5 to 5 so year lag 5 means =>5\n",
    "#after binning\n",
    "\n",
    "pd.Series(active_y_lag).value_counts()"
   ]
  },
  {
   "cell_type": "markdown",
   "metadata": {},
   "source": [
    "#### merge the new feature to training set"
   ]
  },
  {
   "cell_type": "code",
   "execution_count": 45,
   "metadata": {
    "scrolled": true
   },
   "outputs": [],
   "source": [
    "train.drop(['first_active_month'],axis=1,inplace=True)\n",
    "year_lag_df=pd.DataFrame(pd.Series(active_y_lag,train.index),columns=['first_active_month_year_lag_to_reference_date'])\n",
    "new_train=pd.concat([train,year_lag_df],axis=1)\n",
    "\n",
    "\n",
    "categorical=new_train[['feature_1','feature_2','feature_3','first_active_month_year_lag_to_reference_date']]\n",
    "categorical=categorical.astype({'feature_1':'category','feature_2':'category','feature_3':'category','first_active_month_year_lag_to_reference_date':'category'})\n",
    "\n",
    "categorical.to_csv('Elo Project [feature creation2] [No transform] Training Set Part1.csv')"
   ]
  },
  {
   "cell_type": "code",
   "execution_count": 12,
   "metadata": {},
   "outputs": [
    {
     "data": {
      "text/html": [
       "<div>\n",
       "<style>\n",
       "    .dataframe thead tr:only-child th {\n",
       "        text-align: right;\n",
       "    }\n",
       "\n",
       "    .dataframe thead th {\n",
       "        text-align: left;\n",
       "    }\n",
       "\n",
       "    .dataframe tbody tr th {\n",
       "        vertical-align: top;\n",
       "    }\n",
       "</style>\n",
       "<table border=\"1\" class=\"dataframe\">\n",
       "  <thead>\n",
       "    <tr style=\"text-align: right;\">\n",
       "      <th></th>\n",
       "      <th>feature_1</th>\n",
       "      <th>feature_2</th>\n",
       "      <th>feature_3</th>\n",
       "      <th>target</th>\n",
       "      <th>first_active_month_year_lag_to_reference_date</th>\n",
       "    </tr>\n",
       "    <tr>\n",
       "      <th>card_id</th>\n",
       "      <th></th>\n",
       "      <th></th>\n",
       "      <th></th>\n",
       "      <th></th>\n",
       "      <th></th>\n",
       "    </tr>\n",
       "  </thead>\n",
       "  <tbody>\n",
       "    <tr>\n",
       "      <th>C_ID_66645317a4</th>\n",
       "      <td>3</td>\n",
       "      <td>1</td>\n",
       "      <td>1</td>\n",
       "      <td>0.063921</td>\n",
       "      <td>-2</td>\n",
       "    </tr>\n",
       "    <tr>\n",
       "      <th>C_ID_716e986eb1</th>\n",
       "      <td>3</td>\n",
       "      <td>2</td>\n",
       "      <td>1</td>\n",
       "      <td>-0.932504</td>\n",
       "      <td>0</td>\n",
       "    </tr>\n",
       "    <tr>\n",
       "      <th>C_ID_ed55d4da27</th>\n",
       "      <td>2</td>\n",
       "      <td>2</td>\n",
       "      <td>0</td>\n",
       "      <td>-1.358110</td>\n",
       "      <td>0</td>\n",
       "    </tr>\n",
       "    <tr>\n",
       "      <th>C_ID_66b5e358b5</th>\n",
       "      <td>3</td>\n",
       "      <td>3</td>\n",
       "      <td>1</td>\n",
       "      <td>-0.108409</td>\n",
       "      <td>0</td>\n",
       "    </tr>\n",
       "    <tr>\n",
       "      <th>C_ID_79bfa65fcf</th>\n",
       "      <td>5</td>\n",
       "      <td>1</td>\n",
       "      <td>1</td>\n",
       "      <td>-0.068852</td>\n",
       "      <td>0</td>\n",
       "    </tr>\n",
       "  </tbody>\n",
       "</table>\n",
       "</div>"
      ],
      "text/plain": [
       "                 feature_1  feature_2  feature_3    target  \\\n",
       "card_id                                                      \n",
       "C_ID_66645317a4          3          1          1  0.063921   \n",
       "C_ID_716e986eb1          3          2          1 -0.932504   \n",
       "C_ID_ed55d4da27          2          2          0 -1.358110   \n",
       "C_ID_66b5e358b5          3          3          1 -0.108409   \n",
       "C_ID_79bfa65fcf          5          1          1 -0.068852   \n",
       "\n",
       "                 first_active_month_year_lag_to_reference_date  \n",
       "card_id                                                         \n",
       "C_ID_66645317a4                                             -2  \n",
       "C_ID_716e986eb1                                              0  \n",
       "C_ID_ed55d4da27                                              0  \n",
       "C_ID_66b5e358b5                                              0  \n",
       "C_ID_79bfa65fcf                                              0  "
      ]
     },
     "execution_count": 12,
     "metadata": {},
     "output_type": "execute_result"
    }
   ],
   "source": [
    "new_train.head()"
   ]
  },
  {
   "cell_type": "code",
   "execution_count": 241,
   "metadata": {
    "scrolled": true
   },
   "outputs": [
    {
     "data": {
      "text/plain": [
       "3    58812\n",
       "2    44662\n",
       "5    32377\n",
       "4    16018\n",
       "1     9664\n",
       "Name: feature_1, dtype: int64"
      ]
     },
     "execution_count": 241,
     "metadata": {},
     "output_type": "execute_result"
    }
   ],
   "source": [
    "new_train.feature_1.value_counts()"
   ]
  },
  {
   "cell_type": "code",
   "execution_count": 242,
   "metadata": {
    "scrolled": true
   },
   "outputs": [
    {
     "data": {
      "text/plain": [
       "1    71364\n",
       "2    59925\n",
       "3    30244\n",
       "Name: feature_2, dtype: int64"
      ]
     },
     "execution_count": 242,
     "metadata": {},
     "output_type": "execute_result"
    }
   ],
   "source": [
    "new_train.feature_2.value_counts()"
   ]
  },
  {
   "cell_type": "code",
   "execution_count": 243,
   "metadata": {},
   "outputs": [
    {
     "data": {
      "text/plain": [
       "1    91189\n",
       "0    70344\n",
       "Name: feature_3, dtype: int64"
      ]
     },
     "execution_count": 243,
     "metadata": {},
     "output_type": "execute_result"
    }
   ],
   "source": [
    "new_train.feature_3.value_counts()"
   ]
  },
  {
   "cell_type": "code",
   "execution_count": 271,
   "metadata": {
    "scrolled": true
   },
   "outputs": [],
   "source": [
    "\n",
    "categorical=pd.get_dummies(categorical)\n",
    "#len(categorical.columns)#16"
   ]
  },
  {
   "cell_type": "code",
   "execution_count": 277,
   "metadata": {},
   "outputs": [],
   "source": [
    "final_train=pd.concat([categorical,new_train.target],axis=1)\n",
    "#final_train.to_csv('C:/Users/Rai Chiang/Documents/Depaul Course/672/data/Elo Project [feature creation]/Elo Project [feature creation2] final Training Set.csv')"
   ]
  }
 ],
 "metadata": {
  "kernelspec": {
   "display_name": "Python [conda env:Anacon]",
   "language": "python",
   "name": "conda-env-Anacon-py"
  },
  "language_info": {
   "codemirror_mode": {
    "name": "ipython",
    "version": 3
   },
   "file_extension": ".py",
   "mimetype": "text/x-python",
   "name": "python",
   "nbconvert_exporter": "python",
   "pygments_lexer": "ipython3",
   "version": "3.6.2"
  }
 },
 "nbformat": 4,
 "nbformat_minor": 2
}
